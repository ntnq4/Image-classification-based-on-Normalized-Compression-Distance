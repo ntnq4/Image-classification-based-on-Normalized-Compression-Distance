{
  "nbformat": 4,
  "nbformat_minor": 0,
  "metadata": {
    "colab": {
      "provenance": []
    },
    "kernelspec": {
      "name": "python3",
      "display_name": "Python 3"
    },
    "language_info": {
      "name": "python"
    }
  },
  "cells": [
    {
      "cell_type": "code",
      "source": [
        "import tensorflow as tf\n",
        "import numpy as np\n",
        "\n",
        "# Load the MNIST dataset\n",
        "mnist = tf.keras.datasets.mnist\n",
        "\n",
        "# Split the dataset into training and testing sets\n",
        "(x_train, y_train), (x_test, y_test) = mnist.load_data()\n",
        "\n",
        "height, width =  28, 28\n",
        "\n",
        "# Print the shape of the training and testing data\n",
        "print(\"Shape of training data: \", x_train.shape)\n",
        "print(\"Shape of training labels: \", y_train.shape)\n",
        "print(\"Shape of testing data: \", x_test.shape)\n",
        "print(\"Shape of testing labels: \", y_test.shape)"
      ],
      "metadata": {
        "colab": {
          "base_uri": "https://localhost:8080/"
        },
        "id": "NPAd2zgNgLlt",
        "outputId": "b3ca6dc7-32d4-4635-f83d-74c758471cc9"
      },
      "execution_count": null,
      "outputs": [
        {
          "output_type": "stream",
          "name": "stdout",
          "text": [
            "Downloading data from https://storage.googleapis.com/tensorflow/tf-keras-datasets/mnist.npz\n",
            "11490434/11490434 [==============================] - 0s 0us/step\n",
            "Shape of training data:  (60000, 28, 28)\n",
            "Shape of training labels:  (60000,)\n",
            "Shape of testing data:  (10000, 28, 28)\n",
            "Shape of testing labels:  (10000,)\n"
          ]
        }
      ]
    },
    {
      "cell_type": "code",
      "source": [
        "from PIL import Image\n",
        "import os\n",
        "import numpy as np\n",
        "from glob import glob\n",
        "from matplotlib import pyplot as plt\n",
        "\n",
        "import zlib\n",
        "import gzip\n",
        "import lzma\n",
        "from io import BytesIO\n",
        "!pip install ffmpeg-python\n",
        "import ffmpeg\n",
        "\n",
        "from sklearn.neighbors import KNeighborsClassifier\n",
        "from IPython.display import clear_output\n",
        "clear_output()"
      ],
      "metadata": {
        "id": "RhX-Stky8YGY"
      },
      "execution_count": null,
      "outputs": []
    },
    {
      "cell_type": "code",
      "source": [
        "def size_compr_im(img, comp):\n",
        "  \n",
        "  buffer = BytesIO()\n",
        "  img.convert('RGB').save(buffer, comp)\n",
        "\n",
        "  return(buffer.getbuffer().nbytes)\n",
        "\n",
        "comp_map = {'gzip': gzip, 'lzma': lzma, 'zlib': zlib, 'jpeg': 'JPEG', 'gif': 'GIF', 'png': 'PNG'}"
      ],
      "metadata": {
        "id": "6paALwVmWUYE"
      },
      "execution_count": null,
      "outputs": []
    },
    {
      "cell_type": "code",
      "execution_count": null,
      "metadata": {
        "id": "GZZDOxia10Xt"
      },
      "outputs": [],
      "source": [
        "def concat_im(im1, im2, axis=0):\n",
        "    \"\"\"\n",
        "    Concatening images horizontally (axis=0) or vertically (axis=1)\n",
        "    \"\"\"\n",
        "\n",
        "    if axis==0:\n",
        "      dst = Image.new('RGB', (im1.width + im2.width, im1.height))\n",
        "      dst.paste(im1, (0, 0))\n",
        "      dst.paste(im2, (im1.width, 0))\n",
        "\n",
        "    else:\n",
        "      dst = Image.new('RGB', (im1.width, im1.height + im2.height))\n",
        "      dst.paste(im1, (0, 0))\n",
        "      dst.paste(im2, (0, im1.height))\n",
        "    return dst\n",
        "\n",
        "\n",
        "def ncd(arr_im1, arr_im2, comp='jpeg'):\n",
        "\n",
        "  im1 = Image.fromarray(arr_im1)\n",
        "  im2 = Image.fromarray(arr_im2)\n",
        "\n",
        "  im12 = concat_im(im1, im2)\n",
        "\n",
        "  compressor = comp_map[comp]\n",
        "\n",
        "  if comp in ['lzma', 'gzip', 'zlib']:\n",
        "    c1 = len(compressor.compress(im1.tobytes()))\n",
        "    c2 = len(compressor.compress(im2.tobytes()))\n",
        "    c12 = len(compressor.compress(im12.tobytes()))\n",
        "  \n",
        "  else:\n",
        "    c1 = size_compr_im(im1, compressor)\n",
        "    c2 = size_compr_im(im2, compressor)\n",
        "    c12 = size_compr_im(im12, compressor)\n",
        "\n",
        "  ncd = (c12 - min(c1, c2))/max(c1, c2)\n",
        "\n",
        "  return ncd"
      ]
    },
    {
      "cell_type": "code",
      "source": [
        "def concat_inter(arr_im1, arr_im2, axis=0):\n",
        "  \"\"\"\n",
        "    Concatening images line by line (axis=0) or column by column (axis=1)\n",
        "  \"\"\"\n",
        "\n",
        "  if axis == 0:\n",
        "    c = arr_im1[0]\n",
        "    \n",
        "    for i in range(arr_im1.shape[0]):\n",
        "      c = np.vstack((c, arr_im1[i]))\n",
        "      c = np.vstack((c, arr_im2[i]))\n",
        "    \n",
        "    im = Image.fromarray(c[1:])\n",
        "  \n",
        "  else:\n",
        "    c = np.column_stack((arr_im1, arr_im2)).reshape(-1,2,28).transpose(0,2,1).reshape(28,-1)\n",
        "    im = Image.fromarray(c)\n",
        "\n",
        "  return(im)\n",
        "\n",
        "\n",
        "\n",
        "def ncd2(arr_im1, arr_im2, comp='gif'):\n",
        "\n",
        "  arr_im1 = arr_im1.reshape(height, width)\n",
        "  arr_im2 = arr_im2.reshape(height, width)\n",
        "\n",
        "  im1 = Image.fromarray(arr_im1)\n",
        "  im2 = Image.fromarray(arr_im2)\n",
        "\n",
        "  im12 = concat_inter(arr_im1, arr_im2, axis=1)\n",
        "\n",
        "  compressor = comp_map[comp]\n",
        "\n",
        "  if comp in ['lzma', 'gzip', 'zlib']:\n",
        "    c1 = len(compressor.compress(im1.tobytes()))\n",
        "    c2 = len(compressor.compress(im2.tobytes()))\n",
        "    c12 = len(compressor.compress(im12.tobytes()))\n",
        "  \n",
        "  else:\n",
        "    c1 = size_compr_im(im1, compressor)\n",
        "    c2 = size_compr_im(im2, compressor)\n",
        "    c12 = size_compr_im(im12, compressor)\n",
        "\n",
        "  ncd = (c12 - min(c1, c2))/max(c1, c2)\n",
        "\n",
        "  return ncd"
      ],
      "metadata": {
        "id": "_6LN1-j1c4fB"
      },
      "execution_count": null,
      "outputs": []
    },
    {
      "cell_type": "code",
      "source": [
        "# Checking the normality of the NCD\n",
        "n = 0\n",
        "for i in range(len(x_test)):\n",
        "  n += ncd2(x_test[i], x_test[i])\n",
        "print(n/len(x_test))"
      ],
      "metadata": {
        "id": "r2fXgS2MkQ9_"
      },
      "execution_count": null,
      "outputs": []
    },
    {
      "cell_type": "code",
      "source": [
        "# verticalement\n",
        "clf = KNeighborsClassifier(n_neighbors=1, metric=ncd)\n",
        "clf.fit(x_train[:10000].reshape(10000, 28*28), y_train[:10000])"
      ],
      "metadata": {
        "id": "AKHBOt3ArS-C",
        "colab": {
          "base_uri": "https://localhost:8080/",
          "height": 74
        },
        "outputId": "2da76bcd-8b30-454e-f69d-2843798edc11"
      },
      "execution_count": null,
      "outputs": [
        {
          "output_type": "execute_result",
          "data": {
            "text/plain": [
              "KNeighborsClassifier(metric=<function ncd at 0x7fd1e503bc10>, n_neighbors=1)"
            ],
            "text/html": [
              "<style>#sk-container-id-1 {color: black;background-color: white;}#sk-container-id-1 pre{padding: 0;}#sk-container-id-1 div.sk-toggleable {background-color: white;}#sk-container-id-1 label.sk-toggleable__label {cursor: pointer;display: block;width: 100%;margin-bottom: 0;padding: 0.3em;box-sizing: border-box;text-align: center;}#sk-container-id-1 label.sk-toggleable__label-arrow:before {content: \"▸\";float: left;margin-right: 0.25em;color: #696969;}#sk-container-id-1 label.sk-toggleable__label-arrow:hover:before {color: black;}#sk-container-id-1 div.sk-estimator:hover label.sk-toggleable__label-arrow:before {color: black;}#sk-container-id-1 div.sk-toggleable__content {max-height: 0;max-width: 0;overflow: hidden;text-align: left;background-color: #f0f8ff;}#sk-container-id-1 div.sk-toggleable__content pre {margin: 0.2em;color: black;border-radius: 0.25em;background-color: #f0f8ff;}#sk-container-id-1 input.sk-toggleable__control:checked~div.sk-toggleable__content {max-height: 200px;max-width: 100%;overflow: auto;}#sk-container-id-1 input.sk-toggleable__control:checked~label.sk-toggleable__label-arrow:before {content: \"▾\";}#sk-container-id-1 div.sk-estimator input.sk-toggleable__control:checked~label.sk-toggleable__label {background-color: #d4ebff;}#sk-container-id-1 div.sk-label input.sk-toggleable__control:checked~label.sk-toggleable__label {background-color: #d4ebff;}#sk-container-id-1 input.sk-hidden--visually {border: 0;clip: rect(1px 1px 1px 1px);clip: rect(1px, 1px, 1px, 1px);height: 1px;margin: -1px;overflow: hidden;padding: 0;position: absolute;width: 1px;}#sk-container-id-1 div.sk-estimator {font-family: monospace;background-color: #f0f8ff;border: 1px dotted black;border-radius: 0.25em;box-sizing: border-box;margin-bottom: 0.5em;}#sk-container-id-1 div.sk-estimator:hover {background-color: #d4ebff;}#sk-container-id-1 div.sk-parallel-item::after {content: \"\";width: 100%;border-bottom: 1px solid gray;flex-grow: 1;}#sk-container-id-1 div.sk-label:hover label.sk-toggleable__label {background-color: #d4ebff;}#sk-container-id-1 div.sk-serial::before {content: \"\";position: absolute;border-left: 1px solid gray;box-sizing: border-box;top: 0;bottom: 0;left: 50%;z-index: 0;}#sk-container-id-1 div.sk-serial {display: flex;flex-direction: column;align-items: center;background-color: white;padding-right: 0.2em;padding-left: 0.2em;position: relative;}#sk-container-id-1 div.sk-item {position: relative;z-index: 1;}#sk-container-id-1 div.sk-parallel {display: flex;align-items: stretch;justify-content: center;background-color: white;position: relative;}#sk-container-id-1 div.sk-item::before, #sk-container-id-1 div.sk-parallel-item::before {content: \"\";position: absolute;border-left: 1px solid gray;box-sizing: border-box;top: 0;bottom: 0;left: 50%;z-index: -1;}#sk-container-id-1 div.sk-parallel-item {display: flex;flex-direction: column;z-index: 1;position: relative;background-color: white;}#sk-container-id-1 div.sk-parallel-item:first-child::after {align-self: flex-end;width: 50%;}#sk-container-id-1 div.sk-parallel-item:last-child::after {align-self: flex-start;width: 50%;}#sk-container-id-1 div.sk-parallel-item:only-child::after {width: 0;}#sk-container-id-1 div.sk-dashed-wrapped {border: 1px dashed gray;margin: 0 0.4em 0.5em 0.4em;box-sizing: border-box;padding-bottom: 0.4em;background-color: white;}#sk-container-id-1 div.sk-label label {font-family: monospace;font-weight: bold;display: inline-block;line-height: 1.2em;}#sk-container-id-1 div.sk-label-container {text-align: center;}#sk-container-id-1 div.sk-container {/* jupyter's `normalize.less` sets `[hidden] { display: none; }` but bootstrap.min.css set `[hidden] { display: none !important; }` so we also need the `!important` here to be able to override the default hidden behavior on the sphinx rendered scikit-learn.org. See: https://github.com/scikit-learn/scikit-learn/issues/21755 */display: inline-block !important;position: relative;}#sk-container-id-1 div.sk-text-repr-fallback {display: none;}</style><div id=\"sk-container-id-1\" class=\"sk-top-container\"><div class=\"sk-text-repr-fallback\"><pre>KNeighborsClassifier(metric=&lt;function ncd at 0x7fd1e503bc10&gt;, n_neighbors=1)</pre><b>In a Jupyter environment, please rerun this cell to show the HTML representation or trust the notebook. <br />On GitHub, the HTML representation is unable to render, please try loading this page with nbviewer.org.</b></div><div class=\"sk-container\" hidden><div class=\"sk-item\"><div class=\"sk-estimator sk-toggleable\"><input class=\"sk-toggleable__control sk-hidden--visually\" id=\"sk-estimator-id-1\" type=\"checkbox\" checked><label for=\"sk-estimator-id-1\" class=\"sk-toggleable__label sk-toggleable__label-arrow\">KNeighborsClassifier</label><div class=\"sk-toggleable__content\"><pre>KNeighborsClassifier(metric=&lt;function ncd at 0x7fd1e503bc10&gt;, n_neighbors=1)</pre></div></div></div></div></div>"
            ]
          },
          "metadata": {},
          "execution_count": 7
        }
      ]
    },
    {
      "cell_type": "code",
      "source": [
        "test_size = 100\n",
        "y_pred = []\n",
        "for i, x in enumerate(x_test[:test_size].reshape(test_size, 28*28)):\n",
        "  if (i%10==0):clear_output()\n",
        "  print(f\"{i+1}/{test_size}\")\n",
        "\n",
        "  pred = clf.predict([x])\n",
        "\n",
        "  print(f\"(Real, Pred): {y_test[i]}, {pred[0]}\" )\n",
        "\n",
        "  y_pred.append(pred[0])\n",
        "\n",
        "  print(f\"Current accuracy: {np.mean(((y_test[:i+1]==y_pred)*100.0))}%\")\n",
        "  print()\n",
        "\n",
        "y_pred = np.array(y_pred)"
      ],
      "metadata": {
        "colab": {
          "base_uri": "https://localhost:8080/"
        },
        "id": "KJUzJI-98b4Z",
        "outputId": "ffed4ac9-bbe6-4797-ba53-714098a93f32"
      },
      "execution_count": null,
      "outputs": [
        {
          "output_type": "stream",
          "name": "stdout",
          "text": [
            "91/100\n",
            "(Real, Pred): 3, 3\n",
            "Current accuracy: 92.3076923076923%\n",
            "\n",
            "92/100\n",
            "(Real, Pred): 6, 6\n",
            "Current accuracy: 92.3913043478261%\n",
            "\n",
            "93/100\n",
            "(Real, Pred): 9, 4\n",
            "Current accuracy: 91.39784946236558%\n",
            "\n",
            "94/100\n",
            "(Real, Pred): 3, 3\n",
            "Current accuracy: 91.48936170212765%\n",
            "\n",
            "95/100\n",
            "(Real, Pred): 1, 1\n",
            "Current accuracy: 91.57894736842105%\n",
            "\n",
            "96/100\n",
            "(Real, Pred): 4, 4\n",
            "Current accuracy: 91.66666666666667%\n",
            "\n",
            "97/100\n",
            "(Real, Pred): 1, 1\n",
            "Current accuracy: 91.75257731958763%\n",
            "\n",
            "98/100\n",
            "(Real, Pred): 7, 7\n",
            "Current accuracy: 91.83673469387755%\n",
            "\n",
            "99/100\n",
            "(Real, Pred): 6, 6\n",
            "Current accuracy: 91.91919191919192%\n",
            "\n",
            "100/100\n",
            "(Real, Pred): 9, 9\n",
            "Current accuracy: 92.0%\n",
            "\n"
          ]
        }
      ]
    },
    {
      "cell_type": "code",
      "source": [
        "fig, axs = plt.subplots(2,5, figsize=(15, 5))\n",
        "axs = axs.ravel()\n",
        "    \n",
        "img = Image.fromarray(x_train[10011])\n",
        "axs[0].imshow(img)\n",
        "axs[0].title.set_text('Query image')\n",
        "axs[0].set_xticks([]) \n",
        "axs[0].set_yticks([])\n",
        "i=0\n",
        "for k in l[0]:\n",
        "  img = Image.fromarray(x_train[k])\n",
        "  axs[i+1].imshow(img)\n",
        "  axs[i+1].title.set_text('Match n°%d, d=%.4f'%(i+1, d[i]))\n",
        "  axs[i+1].set_xticks([])\n",
        "  axs[i+1].set_yticks([])\n",
        "  i+=1"
      ],
      "metadata": {
        "colab": {
          "base_uri": "https://localhost:8080/",
          "height": 319
        },
        "id": "IHI81SPKhdqr",
        "outputId": "75344396-84c4-4035-a0f3-0a3e0c8a1b24"
      },
      "execution_count": null,
      "outputs": [
        {
          "output_type": "display_data",
          "data": {
            "text/plain": [
              "<Figure size 1080x360 with 10 Axes>"
            ],
            "image/png": "[encoded data removed]"
          },
          "metadata": {}
        }
      ]
    },
    {
      "cell_type": "code",
      "source": [
        "fig, axs = plt.subplots(2,5, figsize=(15, 5))\n",
        "axs = axs.ravel()\n",
        "    \n",
        "img = Image.fromarray(x_train[10008])\n",
        "axs[0].imshow(img)\n",
        "axs[0].title.set_text('Query image')\n",
        "axs[0].set_xticks([]) \n",
        "axs[0].set_yticks([])\n",
        "i=0\n",
        "for k in l[0]:\n",
        "  img = Image.fromarray(x_train[k])\n",
        "  axs[i+1].imshow(img)\n",
        "  axs[i+1].title.set_text('Match n°%d, d=%.4f'%(i+1, d[i]))\n",
        "  axs[i+1].set_xticks([])\n",
        "  axs[i+1].set_yticks([])\n",
        "  i+=1"
      ],
      "metadata": {
        "colab": {
          "base_uri": "https://localhost:8080/",
          "height": 319
        },
        "id": "yrAp_cTtfnHD",
        "outputId": "b7e96a9a-50f8-4ec7-f78c-07039e35371a"
      },
      "execution_count": null,
      "outputs": [
        {
          "output_type": "display_data",
          "data": {
            "text/plain": [
              "<Figure size 1080x360 with 10 Axes>"
            ],
            "image/png": "[encoded data removed]"
          },
          "metadata": {}
        }
      ]
    },
    {
      "cell_type": "code",
      "source": [
        "fig, axs = plt.subplots(2,5, figsize=(15, 5))\n",
        "axs = axs.ravel()\n",
        "    \n",
        "img = Image.fromarray(x_train[10007])\n",
        "axs[0].imshow(img)\n",
        "axs[0].title.set_text('Query image')\n",
        "axs[0].set_xticks([]) \n",
        "axs[0].set_yticks([])\n",
        "i=0\n",
        "for k in l[0]:\n",
        "  img = Image.fromarray(x_train[k])\n",
        "  axs[i+1].imshow(img)\n",
        "  axs[i+1].title.set_text('Match n°%d, d=%.4f'%(i+1, d[i]))\n",
        "  axs[i+1].set_xticks([])\n",
        "  axs[i+1].set_yticks([])\n",
        "  i+=1"
      ],
      "metadata": {
        "colab": {
          "base_uri": "https://localhost:8080/",
          "height": 319
        },
        "id": "qh2D2bg5cwrN",
        "outputId": "abd4896b-9369-495f-9357-810a16d21e59"
      },
      "execution_count": null,
      "outputs": [
        {
          "output_type": "display_data",
          "data": {
            "text/plain": [
              "<Figure size 1080x360 with 10 Axes>"
            ],
            "image/png": "[encoded data removed]"
          },
          "metadata": {}
        }
      ]
    }
  ]
}